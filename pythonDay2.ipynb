{
 "cells": [
  {
   "cell_type": "code",
   "execution_count": 5,
   "id": "490778c8-3b19-4d31-8b18-aa5cfe6956ea",
   "metadata": {},
   "outputs": [],
   "source": [
    "str1='hello gyes , this is me Rosan Shrestha'\n"
   ]
  },
  {
   "cell_type": "code",
   "execution_count": 7,
   "id": "e853ee3b-115f-4cde-aedd-b0febb474633",
   "metadata": {},
   "outputs": [
    {
     "name": "stdout",
     "output_type": "stream",
     "text": [
      "hello gyes , this is me Rosan Shrestha\n"
     ]
    }
   ],
   "source": [
    "print(str1)"
   ]
  },
  {
   "cell_type": "code",
   "execution_count": 9,
   "id": "8605df57-1708-4996-b492-101b7d939a6c",
   "metadata": {},
   "outputs": [],
   "source": [
    "str2='''python programming language is a most popular language.\n",
    "it is a high level language and  it is obejct oriented language'''"
   ]
  },
  {
   "cell_type": "code",
   "execution_count": 11,
   "id": "f1620a3b-3660-44bc-856f-9f2962f83485",
   "metadata": {},
   "outputs": [
    {
     "name": "stdout",
     "output_type": "stream",
     "text": [
      "python programming language is a most popular language.\n",
      "it is a high level language and  it is obejct oriented language\n"
     ]
    }
   ],
   "source": [
    "print(str2)"
   ]
  },
  {
   "cell_type": "code",
   "execution_count": 15,
   "id": "0404054d-1dd2-4fe1-adb3-fa407b7a66d6",
   "metadata": {},
   "outputs": [
    {
     "name": "stdout",
     "output_type": "stream",
     "text": [
      "h\n",
      "e\n",
      "l\n",
      "l\n"
     ]
    }
   ],
   "source": [
    "print(str1[0])\n",
    "print(str1[1])\n",
    "print(str1[2])\n",
    "print(str1[3])"
   ]
  },
  {
   "cell_type": "code",
   "execution_count": 17,
   "id": "94ec58b7-e423-4d81-b858-a258c3927e3d",
   "metadata": {},
   "outputs": [
    {
     "name": "stdout",
     "output_type": "stream",
     "text": [
      "i\n"
     ]
    }
   ],
   "source": [
    "print(str1[15])\n"
   ]
  },
  {
   "cell_type": "code",
   "execution_count": 19,
   "id": "e69efc52-daf0-47a4-93ba-1b86463badb2",
   "metadata": {},
   "outputs": [
    {
     "name": "stdout",
     "output_type": "stream",
     "text": [
      "we can use the for loop to print the  stiring\n"
     ]
    }
   ],
   "source": [
    "print(\"we can use the for loop to print the  stiring\")"
   ]
  },
  {
   "cell_type": "code",
   "execution_count": 21,
   "id": "68b9b0b8-5f10-4226-9528-d5ccd8611aee",
   "metadata": {},
   "outputs": [
    {
     "name": "stdout",
     "output_type": "stream",
     "text": [
      "p\n",
      "y\n",
      "t\n",
      "h\n",
      "o\n",
      "n\n",
      " \n",
      "p\n",
      "r\n",
      "o\n",
      "g\n",
      "r\n",
      "a\n",
      "m\n",
      "m\n",
      "i\n",
      "n\n",
      "g\n",
      " \n",
      "l\n",
      "a\n",
      "n\n",
      "g\n",
      "u\n",
      "a\n",
      "g\n",
      "e\n",
      " \n",
      "i\n",
      "s\n",
      " \n",
      "a\n",
      " \n",
      "m\n",
      "o\n",
      "s\n",
      "t\n",
      " \n",
      "p\n",
      "o\n",
      "p\n",
      "u\n",
      "l\n",
      "a\n",
      "r\n",
      " \n",
      "l\n",
      "a\n",
      "n\n",
      "g\n",
      "u\n",
      "a\n",
      "g\n",
      "e\n",
      ".\n",
      "\n",
      "\n",
      "i\n",
      "t\n",
      " \n",
      "i\n",
      "s\n",
      " \n",
      "a\n",
      " \n",
      "h\n",
      "i\n",
      "g\n",
      "h\n",
      " \n",
      "l\n",
      "e\n",
      "v\n",
      "e\n",
      "l\n",
      " \n",
      "l\n",
      "a\n",
      "n\n",
      "g\n",
      "u\n",
      "a\n",
      "g\n",
      "e\n",
      " \n",
      "a\n",
      "n\n",
      "d\n",
      " \n",
      " \n",
      "i\n",
      "t\n",
      " \n",
      "i\n",
      "s\n",
      " \n",
      "o\n",
      "b\n",
      "e\n",
      "j\n",
      "c\n",
      "t\n",
      " \n",
      "o\n",
      "r\n",
      "i\n",
      "e\n",
      "n\n",
      "t\n",
      "e\n",
      "d\n",
      " \n",
      "l\n",
      "a\n",
      "n\n",
      "g\n",
      "u\n",
      "a\n",
      "g\n",
      "e\n"
     ]
    }
   ],
   "source": [
    "for x in str2:\n",
    "    print(x)"
   ]
  },
  {
   "cell_type": "code",
   "execution_count": 29,
   "id": "dfb05910-1033-489b-9083-53271f5d1416",
   "metadata": {},
   "outputs": [
    {
     "name": "stdout",
     "output_type": "stream",
     "text": [
      "Hello python\n"
     ]
    }
   ],
   "source": [
    "#sting slicing \n",
    "string1=\"Hello python\"\n",
    "print(string1)"
   ]
  },
  {
   "cell_type": "code",
   "execution_count": 33,
   "id": "14d59353-3b0a-409a-9378-438ce183dc1a",
   "metadata": {},
   "outputs": [
    {
     "name": "stdout",
     "output_type": "stream",
     "text": [
      "Hello\n"
     ]
    }
   ],
   "source": [
    "print(string1[0:5])#sting slicing\n",
    "\n"
   ]
  },
  {
   "cell_type": "code",
   "execution_count": 35,
   "id": "11b89aff-574c-4c31-8995-ab26cd787a10",
   "metadata": {},
   "outputs": [
    {
     "name": "stdout",
     "output_type": "stream",
     "text": [
      "Hello p\n"
     ]
    }
   ],
   "source": [
    "print(string1[:7])"
   ]
  },
  {
   "cell_type": "code",
   "execution_count": 37,
   "id": "6b0b16b1-1aae-4151-918e-f85d2cf559d2",
   "metadata": {},
   "outputs": [
    {
     "name": "stdout",
     "output_type": "stream",
     "text": [
      "python\n"
     ]
    }
   ],
   "source": [
    "print(string1[6:12])"
   ]
  },
  {
   "cell_type": "code",
   "execution_count": 39,
   "id": "2e2b8625-42d2-489e-8cb8-d33f63731559",
   "metadata": {},
   "outputs": [
    {
     "name": "stdout",
     "output_type": "stream",
     "text": [
      "12\n"
     ]
    }
   ],
   "source": [
    "print(len(string1))"
   ]
  },
  {
   "cell_type": "code",
   "execution_count": 41,
   "id": "9caf3cbb-f47c-4607-96c5-2a8a623a6ed4",
   "metadata": {},
   "outputs": [],
   "source": [
    "str='python'"
   ]
  },
  {
   "cell_type": "code",
   "execution_count": 43,
   "id": "d9eeb867-e7b7-4bc9-975f-701389cf7519",
   "metadata": {},
   "outputs": [
    {
     "name": "stdout",
     "output_type": "stream",
     "text": [
      "python\n"
     ]
    }
   ],
   "source": [
    "print(str)"
   ]
  },
  {
   "cell_type": "code",
   "execution_count": 45,
   "id": "632335d3-7af5-4275-a268-97bc303bb201",
   "metadata": {},
   "outputs": [
    {
     "name": "stdout",
     "output_type": "stream",
     "text": [
      "tho\n"
     ]
    }
   ],
   "source": [
    "print(str[2:-1])"
   ]
  },
  {
   "cell_type": "code",
   "execution_count": 49,
   "id": "cd78c3f5-4a91-47ab-9f6e-51404ef96410",
   "metadata": {},
   "outputs": [
    {
     "name": "stdout",
     "output_type": "stream",
     "text": [
      "thon\n"
     ]
    }
   ],
   "source": [
    "print(str[-4:])"
   ]
  },
  {
   "cell_type": "code",
   "execution_count": 51,
   "id": "a2a7529d-6cf4-46ff-a958-0cad329ff65c",
   "metadata": {},
   "outputs": [
    {
     "name": "stdout",
     "output_type": "stream",
     "text": [
      "yth\n"
     ]
    }
   ],
   "source": [
    "print(str[-5:-2])"
   ]
  },
  {
   "cell_type": "code",
   "execution_count": 55,
   "id": "ab56ef8a-6de5-4238-a8ea-6782c8231d97",
   "metadata": {},
   "outputs": [],
   "source": [
    "a=\"Hello \""
   ]
  },
  {
   "cell_type": "code",
   "execution_count": 57,
   "id": "c1d63f0d-22fc-4819-829f-301b6fe4ff8d",
   "metadata": {},
   "outputs": [
    {
     "name": "stdout",
     "output_type": "stream",
     "text": [
      "HELLO \n"
     ]
    }
   ],
   "source": [
    "print(a.upper())#sting are immutable "
   ]
  },
  {
   "cell_type": "code",
   "execution_count": 59,
   "id": "33902193-f31e-41ab-82f9-0a9e057ffbb7",
   "metadata": {},
   "outputs": [
    {
     "name": "stdout",
     "output_type": "stream",
     "text": [
      "hello \n"
     ]
    }
   ],
   "source": [
    "print(a.lower())"
   ]
  },
  {
   "cell_type": "code",
   "execution_count": 89,
   "id": "5e352f39-8517-4b03-8382-c14356f52f5e",
   "metadata": {},
   "outputs": [
    {
     "name": "stdout",
     "output_type": "stream",
     "text": [
      "Rosan Shrestha!!!!!!!\n",
      "ROSAN SHRESTHA!!!!!!!\n",
      "rosan shrestha!!!!!!!\n",
      "Rosan Shrestha\n"
     ]
    }
   ],
   "source": [
    "str='Rosan Shrestha!!!!!!!'\n",
    "print(str)\n",
    "print(str.upper())\n",
    "print(str.lower())\n",
    "print(str.rstrip(\"!\"))#removing the unwantesd character fromn the word\n",
    "#print(str.repalce(\"Rosan\",\"Shyam\"))"
   ]
  },
  {
   "cell_type": "code",
   "execution_count": null,
   "id": "c88e6ace-7da7-46af-aed8-9c56f916e494",
   "metadata": {},
   "outputs": [],
   "source": []
  }
 ],
 "metadata": {
  "kernelspec": {
   "display_name": "Python 3 (ipykernel)",
   "language": "python",
   "name": "python3"
  },
  "language_info": {
   "codemirror_mode": {
    "name": "ipython",
    "version": 3
   },
   "file_extension": ".py",
   "mimetype": "text/x-python",
   "name": "python",
   "nbconvert_exporter": "python",
   "pygments_lexer": "ipython3",
   "version": "3.12.4"
  }
 },
 "nbformat": 4,
 "nbformat_minor": 5
}
